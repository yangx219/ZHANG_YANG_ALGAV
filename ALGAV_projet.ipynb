{
 "cells": [
  {
   "cell_type": "markdown",
   "id": "c93793fd",
   "metadata": {},
   "source": [
    "# 1 Présentation\n",
    "\n",
    "## 1.1 Échauffement"
   ]
  },
  {
   "cell_type": "code",
   "execution_count": 19,
   "id": "d2e50a05",
   "metadata": {},
   "outputs": [
    {
     "name": "stdout",
     "output_type": "stream",
     "text": [
      "(305419896, 2427178479, 305419896, 2427178479)\n"
     ]
    }
   ],
   "source": [
    "# Question 1.1 \n",
    "def cle_128_bits(entier_128_bits):\n",
    "    \"\"\"\n",
    "    Cette fonction prend un entier de 128 bits et retourne une représentation\n",
    "    sous forme de quadruplet de 4 entiers non signés de 32 bits.\n",
    "    \n",
    "    :param entier_128_bits: Un entier de 128 bits\n",
    "    :return: Un quadruplet de 4 entiers de 32 bits\n",
    "    \"\"\"\n",
    "    masque_32_bits = 0xFFFFFFFF\n",
    "    partie_1 = (entier_128_bits >> 96) & masque_32_bits\n",
    "    partie_2 = (entier_128_bits >> 64) & masque_32_bits\n",
    "    partie_3 = (entier_128_bits >> 32) & masque_32_bits\n",
    "    partie_4 = entier_128_bits & masque_32_bits\n",
    "    \n",
    "    return partie_1, partie_2, partie_3, partie_4\n",
    "\n",
    "# Exemple d'utilisation\n",
    "entier_128_bits_exemple = 0x1234567890ABCDEF1234567890ABCDEF  # Un exemple d'entier 128 bits en hexadécimal\n",
    "representation = cle_128_bits(entier_128_bits_exemple)\n",
    "print(representation)  # Affiche le quadruplet de 32 bits"
   ]
  },
  {
   "cell_type": "code",
   "execution_count": 20,
   "id": "f6d57bc3",
   "metadata": {},
   "outputs": [],
   "source": [
    "# Question 1.2\n",
    "def inf(cle1, cle2):\n",
    "    \"\"\"\n",
    "    Cette fonction détermine si la clé 'cle1' est strictement inférieure à 'cle2'.\n",
    "    \n",
    "    :param cle1: Premier quadruplet représentant la première clé 128 bits\n",
    "    :param cle2: Deuxième quadruplet représentant la deuxième clé 128 bits\n",
    "    :return: True si 'cle1' est strictement inférieure à 'cle2', sinon False\n",
    "    \"\"\"\n",
    "    for i in range(4):\n",
    "        if cle1[i] < cle2[i]:\n",
    "            return True\n",
    "        elif cle1[i] > cle2[i]:\n",
    "            return False\n",
    "    return False  # Si tous les éléments sont égaux, 'cle1' n'est pas inférieure à 'cle2'"
   ]
  },
  {
   "cell_type": "code",
   "execution_count": 21,
   "id": "718df770",
   "metadata": {},
   "outputs": [
    {
     "name": "stdout",
     "output_type": "stream",
     "text": [
      "True\n",
      "False\n"
     ]
    }
   ],
   "source": [
    "# Question 1.3\n",
    "def eg(cle1, cle2):\n",
    "    \"\"\"\n",
    "    Cette fonction vérifie si les clés 'cle1' et 'cle2' sont égales.\n",
    "    \n",
    "    :param cle1: Premier quadruplet représentant la première clé 128 bits\n",
    "    :param cle2: Deuxième quadruplet représentant la deuxième clé 128 bits\n",
    "    :return: True si les deux clés sont égales, sinon False\n",
    "    \"\"\"\n",
    "    return all(c1 == c2 for c1, c2 in zip(cle1, cle2))\n",
    "\n",
    "# Example usage\n",
    "cle1 = (0x12345678, 0x9ABCDEF0, 0x12345678, 0x9ABCDEF0)\n",
    "cle2 = (0x12345678, 0x9ABCDEF0, 0x12345678, 0x9ABCDEFF)\n",
    "\n",
    "print(inf(cle1, cle2))  # Should print False\n",
    "\n",
    "print(eg(cle1, cle2))   # Should print False"
   ]
  }
 ],
 "metadata": {
  "kernelspec": {
   "display_name": "Python 3 (ipykernel)",
   "language": "python",
   "name": "python3"
  },
  "language_info": {
   "codemirror_mode": {
    "name": "ipython",
    "version": 3
   },
   "file_extension": ".py",
   "mimetype": "text/x-python",
   "name": "python",
   "nbconvert_exporter": "python",
   "pygments_lexer": "ipython3",
   "version": "3.9.13"
  }
 },
 "nbformat": 4,
 "nbformat_minor": 5
}
