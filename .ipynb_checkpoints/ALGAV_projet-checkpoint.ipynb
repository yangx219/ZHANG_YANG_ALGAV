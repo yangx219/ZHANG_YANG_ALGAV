{
 "cells": [
  {
   "cell_type": "markdown",
   "id": "c93793fd",
   "metadata": {},
   "source": [
    "# 1 Présentation\n",
    "\n",
    "## 1.1 Échauffement"
   ]
  },
  {
   "cell_type": "code",
   "execution_count": null,
   "id": "d2e50a05",
   "metadata": {},
   "outputs": [],
   "source": [
    "import pandas as pd\n",
    "import matplotlib.pyplot as plt\n",
    "\n",
    "# Assuming the data is loaded into a DataFrame named 'df'\n",
    "# Replace 'your_csv_file_path.csv' with the path to your actual CSV file\n",
    "df = pd.read_csv('performance.csv')\n",
    "\n",
    "# Group the data by 'Function' and 'Size' and calculate the mean time\n",
    "df_mean = df.groupby(['Function', 'Size']).mean().reset_index()\n",
    "\n",
    "# Now let's plot the mean time for each function\n",
    "plt.figure(figsize=(14, 7))\n",
    "\n",
    "# Plotting each function separately\n",
    "for function in df_mean['Function'].unique():\n",
    "    subset = df_mean[df_mean['Function'] == function]\n",
    "    plt.plot(subset['Size'], subset['Time'], marker='o', label=function)\n",
    "\n",
    "plt.xlabel('Size')\n",
    "plt.ylabel('Time (seconds)')\n",
    "plt.title('Average Running Time by Function and Size')\n",
    "plt.legend()\n",
    "plt.grid(True)\n",
    "plt.xscale('log')\n",
    "plt.yscale('log')\n",
    "plt.show()\n"
   ]
  },
  {
   "cell_type": "code",
   "execution_count": null,
   "id": "f97ed542",
   "metadata": {},
   "outputs": [],
   "source": []
  }
 ],
 "metadata": {
  "kernelspec": {
   "display_name": "Python 3 (ipykernel)",
   "language": "python",
   "name": "python3"
  },
  "language_info": {
   "codemirror_mode": {
    "name": "ipython",
    "version": 3
   },
   "file_extension": ".py",
   "mimetype": "text/x-python",
   "name": "python",
   "nbconvert_exporter": "python",
   "pygments_lexer": "ipython3",
   "version": "3.9.13"
  }
 },
 "nbformat": 4,
 "nbformat_minor": 5
}
